{
 "cells": [
  {
   "cell_type": "markdown",
   "metadata": {},
   "source": [
    "# IBM AI Enterprise Workflow Capstone Project\n",
    "\n",
    "## Part 1\n",
    "\n"
   ]
  },
  {
   "cell_type": "markdown",
   "metadata": {},
   "source": [
    "#### 1) Assimilate the business scenario and articulate testable hypotheses\n",
    "\n",
    "The data has transaction-level purchases across 38 different countries. A service is required to predict revenue for the following month and Service should have ability to project revenue for a specific country.\n",
    "\n",
    "Business scenario here is that the management team expects to spend less time in projection models and gain more accuracy in forecasting revenue. It is expected that well projected numbers will help stabilize staffing and budget projections which will have a beneficial ripple effect throughout the company.\n",
    "\n",
    "Business metric can be defined as a function of revenue gained through more accurate predictions. \n",
    "\n",
    "Null Hypothesis: Improved accuracy has no effect on the revenue of the company\n",
    "\n",
    "Therefore, a hypothesis testing can be carried out to reject the null hypothesis. "
   ]
  },
  {
   "cell_type": "markdown",
   "metadata": {},
   "source": [
    "#### 2) State the ideal data to address the business opportunity and clarify the rationale for needing specific data.\n",
    "\n",
    "The ideal data would contain a feature set based on which the revenue of the AAVAIL could be predicted such as the number of subscribers, types of subscription, location etc and the target variable would be the revenue. This will help in building a supervised learning pipeline which would be predicting the target variable \"Revenue\" based on the feature set or dependent variables. \n",
    "\n",
    "An alternative scenario would be the application of time-series analysis where the revenue of AAVAIL is given alongwith the timestamp. Thus, a timeseries forecasting technique could be applied to obtain the budget projection based on the historical data. "
   ]
  },
  {
   "cell_type": "markdown",
   "metadata": {},
   "source": [
    "#### 3) Create a python script to extract relevant data from multiple data sources, automating the process of data ingestion."
   ]
  },
  {
   "cell_type": "code",
   "execution_count": 1,
   "metadata": {},
   "outputs": [],
   "source": [
    "import re, io\n",
    "import os, json\n",
    "import pandas as pd\n",
    "import numpy as np\n",
    "from IPython.display import Image\n",
    "import matplotlib.pyplot as plt\n",
    "import seaborn as sns\n",
    "\n",
    "plt.style.use('seaborn')\n",
    "%matplotlib inline"
   ]
  },
  {
   "cell_type": "markdown",
   "metadata": {},
   "source": [
    "##### Data Ingestion and Preprocessing\n",
    "\n",
    "In order to leverage data to solve the business problem at hand, it is first required to be understood. One of the json files from the cs-train folder is read in order to know the informations that are available in the data. "
   ]
  },
  {
   "cell_type": "code",
   "execution_count": 2,
   "metadata": {},
   "outputs": [
    {
     "data": {
      "text/html": [
       "<div>\n",
       "<style scoped>\n",
       "    .dataframe tbody tr th:only-of-type {\n",
       "        vertical-align: middle;\n",
       "    }\n",
       "\n",
       "    .dataframe tbody tr th {\n",
       "        vertical-align: top;\n",
       "    }\n",
       "\n",
       "    .dataframe thead th {\n",
       "        text-align: right;\n",
       "    }\n",
       "</style>\n",
       "<table border=\"1\" class=\"dataframe\">\n",
       "  <thead>\n",
       "    <tr style=\"text-align: right;\">\n",
       "      <th></th>\n",
       "      <th>StreamID</th>\n",
       "      <th>TimesViewed</th>\n",
       "      <th>country</th>\n",
       "      <th>customer_id</th>\n",
       "      <th>day</th>\n",
       "      <th>invoice</th>\n",
       "      <th>month</th>\n",
       "      <th>price</th>\n",
       "      <th>year</th>\n",
       "    </tr>\n",
       "  </thead>\n",
       "  <tbody>\n",
       "    <tr>\n",
       "      <th>0</th>\n",
       "      <td>22578</td>\n",
       "      <td>1</td>\n",
       "      <td>United Kingdom</td>\n",
       "      <td>NaN</td>\n",
       "      <td>01</td>\n",
       "      <td>530850</td>\n",
       "      <td>11</td>\n",
       "      <td>1.66</td>\n",
       "      <td>2018</td>\n",
       "    </tr>\n",
       "    <tr>\n",
       "      <th>1</th>\n",
       "      <td>22549</td>\n",
       "      <td>1</td>\n",
       "      <td>United Kingdom</td>\n",
       "      <td>NaN</td>\n",
       "      <td>01</td>\n",
       "      <td>530850</td>\n",
       "      <td>11</td>\n",
       "      <td>3.36</td>\n",
       "      <td>2018</td>\n",
       "    </tr>\n",
       "    <tr>\n",
       "      <th>2</th>\n",
       "      <td>22557</td>\n",
       "      <td>1</td>\n",
       "      <td>United Kingdom</td>\n",
       "      <td>NaN</td>\n",
       "      <td>01</td>\n",
       "      <td>530850</td>\n",
       "      <td>11</td>\n",
       "      <td>3.36</td>\n",
       "      <td>2018</td>\n",
       "    </tr>\n",
       "    <tr>\n",
       "      <th>3</th>\n",
       "      <td>22567</td>\n",
       "      <td>1</td>\n",
       "      <td>United Kingdom</td>\n",
       "      <td>NaN</td>\n",
       "      <td>01</td>\n",
       "      <td>530850</td>\n",
       "      <td>11</td>\n",
       "      <td>2.51</td>\n",
       "      <td>2018</td>\n",
       "    </tr>\n",
       "    <tr>\n",
       "      <th>4</th>\n",
       "      <td>22553</td>\n",
       "      <td>1</td>\n",
       "      <td>United Kingdom</td>\n",
       "      <td>NaN</td>\n",
       "      <td>01</td>\n",
       "      <td>530850</td>\n",
       "      <td>11</td>\n",
       "      <td>3.36</td>\n",
       "      <td>2018</td>\n",
       "    </tr>\n",
       "  </tbody>\n",
       "</table>\n",
       "</div>"
      ],
      "text/plain": [
       "  StreamID  TimesViewed         country  customer_id day invoice month  price  \\\n",
       "0    22578            1  United Kingdom          NaN  01  530850    11   1.66   \n",
       "1    22549            1  United Kingdom          NaN  01  530850    11   3.36   \n",
       "2    22557            1  United Kingdom          NaN  01  530850    11   3.36   \n",
       "3    22567            1  United Kingdom          NaN  01  530850    11   2.51   \n",
       "4    22553            1  United Kingdom          NaN  01  530850    11   3.36   \n",
       "\n",
       "   year  \n",
       "0  2018  \n",
       "1  2018  \n",
       "2  2018  \n",
       "3  2018  \n",
       "4  2018  "
      ]
     },
     "execution_count": 2,
     "metadata": {},
     "output_type": "execute_result"
    }
   ],
   "source": [
    "with open('cs-train/invoices-2018-11.json', 'r') as f:\n",
    "    data = json.load(f)\n",
    "df = pd.DataFrame(data)\n",
    "df.head()"
   ]
  },
  {
   "cell_type": "markdown",
   "metadata": {},
   "source": [
    "It can be seen that each json file represents a monthly data of AAVAIL's transaction for different countries. The various features availabe in the data are \"TimesViewed\", \"country\", \"customer_id\", \"day\", \"invoice\", \"month\", \"total_price\" and \"year\" alongwith a unique stream id. These can be used to create a dataframe which will then be used to merge all data of all the months to create one single dataframe."
   ]
  },
  {
   "cell_type": "markdown",
   "metadata": {},
   "source": [
    "#### Quality Assurance step\n",
    "In order to make sure that the data passes quality control check, a few tests are created in order to check the column name for consistency because otherwise it would not be possible to create a unified dataframe and do further analysis.\n",
    "The data also needs to be sorted in a chronological order to carry out a predictive or forecasting analysis."
   ]
  },
  {
   "cell_type": "code",
   "execution_count": 3,
   "metadata": {},
   "outputs": [],
   "source": [
    "path_to_json = \"/Users/shivamsolanki/Desktop/Study/AI_workflow_coursera/ai-workflow-capstone/cs-train/\"\n",
    "column_dict ={'country': 'country', 'customer_id': 'customer_id',\n",
    "                       'day': 'day','invoice': 'invoice', 'month': 'month',\n",
    "                       'total_price': 'price', 'StreamID': 'stream_id',\n",
    "                        'TimesViewed': 'times_viewed'}\n",
    "inconsistent_col = ['TimesViewed', 'StreamID', 'total_price']\n",
    "keys=['country', 'customer_id', 'day', 'invoice', 'month', 'price', 'stream_id', 'times_viewed', 'year']"
   ]
  },
  {
   "cell_type": "markdown",
   "metadata": {},
   "source": [
    "Importing functions from the module"
   ]
  },
  {
   "cell_type": "code",
   "execution_count": 4,
   "metadata": {},
   "outputs": [],
   "source": [
    "from data_ingestor import *"
   ]
  },
  {
   "cell_type": "code",
   "execution_count": 5,
   "metadata": {},
   "outputs": [
    {
     "name": "stderr",
     "output_type": "stream",
     "text": [
      "/usr/local/lib/python3.7/site-packages/pandas/core/frame.py:6692: FutureWarning: Sorting because non-concatenation axis is not aligned. A future version\n",
      "of pandas will change to not sort by default.\n",
      "\n",
      "To accept the future behavior, pass 'sort=False'.\n",
      "\n",
      "To retain the current behavior and silence the warning, pass 'sort=True'.\n",
      "\n",
      "  sort=sort)\n"
     ]
    },
    {
     "name": "stdout",
     "output_type": "stream",
     "text": [
      "(815011, 9)\n"
     ]
    },
    {
     "data": {
      "text/html": [
       "<div>\n",
       "<style scoped>\n",
       "    .dataframe tbody tr th:only-of-type {\n",
       "        vertical-align: middle;\n",
       "    }\n",
       "\n",
       "    .dataframe tbody tr th {\n",
       "        vertical-align: top;\n",
       "    }\n",
       "\n",
       "    .dataframe thead th {\n",
       "        text-align: right;\n",
       "    }\n",
       "</style>\n",
       "<table border=\"1\" class=\"dataframe\">\n",
       "  <thead>\n",
       "    <tr style=\"text-align: right;\">\n",
       "      <th></th>\n",
       "      <th>country</th>\n",
       "      <th>customer_id</th>\n",
       "      <th>day</th>\n",
       "      <th>invoice</th>\n",
       "      <th>month</th>\n",
       "      <th>price</th>\n",
       "      <th>stream_id</th>\n",
       "      <th>times_viewed</th>\n",
       "      <th>year</th>\n",
       "    </tr>\n",
       "  </thead>\n",
       "  <tbody>\n",
       "    <tr>\n",
       "      <th>0</th>\n",
       "      <td>United Kingdom</td>\n",
       "      <td>13085.0</td>\n",
       "      <td>28</td>\n",
       "      <td>489434</td>\n",
       "      <td>11</td>\n",
       "      <td>6.95</td>\n",
       "      <td>85048</td>\n",
       "      <td>12</td>\n",
       "      <td>2017</td>\n",
       "    </tr>\n",
       "    <tr>\n",
       "      <th>1</th>\n",
       "      <td>United Kingdom</td>\n",
       "      <td>NaN</td>\n",
       "      <td>28</td>\n",
       "      <td>489597</td>\n",
       "      <td>11</td>\n",
       "      <td>8.65</td>\n",
       "      <td>22130</td>\n",
       "      <td>1</td>\n",
       "      <td>2017</td>\n",
       "    </tr>\n",
       "    <tr>\n",
       "      <th>2</th>\n",
       "      <td>United Kingdom</td>\n",
       "      <td>NaN</td>\n",
       "      <td>28</td>\n",
       "      <td>489597</td>\n",
       "      <td>11</td>\n",
       "      <td>1.70</td>\n",
       "      <td>22132</td>\n",
       "      <td>6</td>\n",
       "      <td>2017</td>\n",
       "    </tr>\n",
       "    <tr>\n",
       "      <th>3</th>\n",
       "      <td>United Kingdom</td>\n",
       "      <td>NaN</td>\n",
       "      <td>28</td>\n",
       "      <td>489597</td>\n",
       "      <td>11</td>\n",
       "      <td>1.70</td>\n",
       "      <td>22133</td>\n",
       "      <td>4</td>\n",
       "      <td>2017</td>\n",
       "    </tr>\n",
       "    <tr>\n",
       "      <th>4</th>\n",
       "      <td>United Kingdom</td>\n",
       "      <td>NaN</td>\n",
       "      <td>28</td>\n",
       "      <td>489597</td>\n",
       "      <td>11</td>\n",
       "      <td>0.87</td>\n",
       "      <td>22134</td>\n",
       "      <td>1</td>\n",
       "      <td>2017</td>\n",
       "    </tr>\n",
       "  </tbody>\n",
       "</table>\n",
       "</div>"
      ],
      "text/plain": [
       "          country  customer_id day invoice month  price stream_id  \\\n",
       "0  United Kingdom      13085.0  28  489434    11   6.95     85048   \n",
       "1  United Kingdom          NaN  28  489597    11   8.65     22130   \n",
       "2  United Kingdom          NaN  28  489597    11   1.70     22132   \n",
       "3  United Kingdom          NaN  28  489597    11   1.70     22133   \n",
       "4  United Kingdom          NaN  28  489597    11   0.87     22134   \n",
       "\n",
       "  times_viewed  year  \n",
       "0           12  2017  \n",
       "1            1  2017  \n",
       "2            6  2017  \n",
       "3            4  2017  \n",
       "4            1  2017  "
      ]
     },
     "execution_count": 5,
     "metadata": {},
     "output_type": "execute_result"
    }
   ],
   "source": [
    "df_total = read_all_json_files(path_to_json, column_dict, inconsistent_col, keys)\n",
    "df_total.head()"
   ]
  },
  {
   "cell_type": "markdown",
   "metadata": {},
   "source": [
    "Data type of data in all the columns is checked in order to make sure further steps can be carried out with ease"
   ]
  },
  {
   "cell_type": "code",
   "execution_count": 6,
   "metadata": {},
   "outputs": [
    {
     "data": {
      "text/plain": [
       "country          object\n",
       "customer_id     float64\n",
       "day              object\n",
       "invoice          object\n",
       "month            object\n",
       "price           float64\n",
       "stream_id        object\n",
       "times_viewed     object\n",
       "year             object\n",
       "dtype: object"
      ]
     },
     "execution_count": 6,
     "metadata": {},
     "output_type": "execute_result"
    }
   ],
   "source": [
    "df_total.dtypes"
   ]
  },
  {
   "cell_type": "markdown",
   "metadata": {},
   "source": [
    "In order to maintain the quality of data, following columns should be of these data types:\n",
    "\n",
    "{ country: string, customer_id: integer, day: integer, invoice: integer, month: integer,\n",
    "price: float64, stream_id: integer, times_viewed: integer, year: integer}"
   ]
  },
  {
   "cell_type": "code",
   "execution_count": 7,
   "metadata": {},
   "outputs": [
    {
     "data": {
      "text/plain": [
       "country          object\n",
       "customer_id     float64\n",
       "day               int64\n",
       "invoice          object\n",
       "month             int64\n",
       "price           float64\n",
       "stream_id        object\n",
       "times_viewed      int64\n",
       "year              int64\n",
       "dtype: object"
      ]
     },
     "execution_count": 7,
     "metadata": {},
     "output_type": "execute_result"
    }
   ],
   "source": [
    "df_clean = maintain_datatype(df_total)\n",
    "df_clean.dtypes"
   ]
  },
  {
   "cell_type": "code",
   "execution_count": 8,
   "metadata": {},
   "outputs": [
    {
     "data": {
      "text/plain": [
       "(815011, 9)"
      ]
     },
     "execution_count": 8,
     "metadata": {},
     "output_type": "execute_result"
    }
   ],
   "source": [
    "df_clean.shape"
   ]
  },
  {
   "cell_type": "markdown",
   "metadata": {},
   "source": [
    "Dropping rows where invoice id is not a number in order to facilitate better matching. "
   ]
  },
  {
   "cell_type": "code",
   "execution_count": 9,
   "metadata": {},
   "outputs": [
    {
     "data": {
      "text/plain": [
       "(799544, 9)"
      ]
     },
     "execution_count": 9,
     "metadata": {},
     "output_type": "execute_result"
    }
   ],
   "source": [
    "df_clean = drop_non_numeric_invoice(df_clean)\n",
    "df_clean.shape"
   ]
  },
  {
   "cell_type": "code",
   "execution_count": 10,
   "metadata": {},
   "outputs": [
    {
     "data": {
      "text/plain": [
       "35874"
      ]
     },
     "execution_count": 10,
     "metadata": {},
     "output_type": "execute_result"
    }
   ],
   "source": [
    "# Number of unique invoice ids\n",
    "df_clean['invoice'].nunique()"
   ]
  },
  {
   "cell_type": "markdown",
   "metadata": {},
   "source": [
    "Aggregating records based on the invoice id so that each record contains the sum of the price and times viewed for each invoice"
   ]
  },
  {
   "cell_type": "code",
   "execution_count": 11,
   "metadata": {},
   "outputs": [
    {
     "data": {
      "text/html": [
       "<div>\n",
       "<style scoped>\n",
       "    .dataframe tbody tr th:only-of-type {\n",
       "        vertical-align: middle;\n",
       "    }\n",
       "\n",
       "    .dataframe tbody tr th {\n",
       "        vertical-align: top;\n",
       "    }\n",
       "\n",
       "    .dataframe thead th {\n",
       "        text-align: right;\n",
       "    }\n",
       "</style>\n",
       "<table border=\"1\" class=\"dataframe\">\n",
       "  <thead>\n",
       "    <tr style=\"text-align: right;\">\n",
       "      <th></th>\n",
       "      <th>invoice</th>\n",
       "      <th>times_viewed</th>\n",
       "      <th>price</th>\n",
       "      <th>country</th>\n",
       "      <th>day</th>\n",
       "      <th>month</th>\n",
       "      <th>year</th>\n",
       "    </tr>\n",
       "  </thead>\n",
       "  <tbody>\n",
       "    <tr>\n",
       "      <th>0</th>\n",
       "      <td>489434</td>\n",
       "      <td>103</td>\n",
       "      <td>32.65</td>\n",
       "      <td>United Kingdom</td>\n",
       "      <td>28</td>\n",
       "      <td>11</td>\n",
       "      <td>2017</td>\n",
       "    </tr>\n",
       "    <tr>\n",
       "      <th>1</th>\n",
       "      <td>489435</td>\n",
       "      <td>54</td>\n",
       "      <td>10.50</td>\n",
       "      <td>United Kingdom</td>\n",
       "      <td>28</td>\n",
       "      <td>11</td>\n",
       "      <td>2017</td>\n",
       "    </tr>\n",
       "    <tr>\n",
       "      <th>2</th>\n",
       "      <td>489436</td>\n",
       "      <td>165</td>\n",
       "      <td>70.88</td>\n",
       "      <td>United Kingdom</td>\n",
       "      <td>28</td>\n",
       "      <td>11</td>\n",
       "      <td>2017</td>\n",
       "    </tr>\n",
       "    <tr>\n",
       "      <th>3</th>\n",
       "      <td>489437</td>\n",
       "      <td>145</td>\n",
       "      <td>83.45</td>\n",
       "      <td>United Kingdom</td>\n",
       "      <td>28</td>\n",
       "      <td>11</td>\n",
       "      <td>2017</td>\n",
       "    </tr>\n",
       "    <tr>\n",
       "      <th>4</th>\n",
       "      <td>489438</td>\n",
       "      <td>214</td>\n",
       "      <td>44.05</td>\n",
       "      <td>United Kingdom</td>\n",
       "      <td>28</td>\n",
       "      <td>11</td>\n",
       "      <td>2017</td>\n",
       "    </tr>\n",
       "  </tbody>\n",
       "</table>\n",
       "</div>"
      ],
      "text/plain": [
       "  invoice  times_viewed  price         country  day  month  year\n",
       "0  489434           103  32.65  United Kingdom   28     11  2017\n",
       "1  489435            54  10.50  United Kingdom   28     11  2017\n",
       "2  489436           165  70.88  United Kingdom   28     11  2017\n",
       "3  489437           145  83.45  United Kingdom   28     11  2017\n",
       "4  489438           214  44.05  United Kingdom   28     11  2017"
      ]
     },
     "execution_count": 11,
     "metadata": {},
     "output_type": "execute_result"
    }
   ],
   "source": [
    "df_agg = df_clean.groupby(['invoice']).agg({'times_viewed':'sum', 'price':'sum',\n",
    "                                        'country':'first', 'day':'first',\n",
    "                                        'month':'first', 'year':'first'}).reset_index()\n",
    "df_agg.head()"
   ]
  },
  {
   "cell_type": "markdown",
   "metadata": {},
   "source": [
    "#### 4) Investigate the relationship between the relevant data, the target and the business metric."
   ]
  },
  {
   "cell_type": "markdown",
   "metadata": {},
   "source": [
    "#### Exploratory Data Analysis\n",
    "\n",
    "It is during the Exploratory Data Analysis (EDA) process that data integrity issues are identified sometimes.\n",
    "\n",
    "After extracting data it is important to include checks for quality assurance even on the first pass through the AI workflow.  Let's combine the data into a single structure and provide a couple checks for quality assurance.\n",
    "\n",
    "**Implementation of checks for Quality Assurance**\n",
    "\n",
    "- Remove any repeat customers based on customer_id\n",
    "- Check for missing values"
   ]
  },
  {
   "cell_type": "code",
   "execution_count": 12,
   "metadata": {},
   "outputs": [
    {
     "name": "stdout",
     "output_type": "stream",
     "text": [
      "\n",
      "Cleaning Summary\n",
      "-----------------------------------\n",
      "Total records: 799544\n",
      "Removed 28757 duplicate rows\n",
      "\n",
      "Missing Value Summary\n",
      "-----------------------------------\n",
      "\n",
      "df_total\n",
      "---------------\n",
      "country              0\n",
      "customer_id     181565\n",
      "day                  0\n",
      "invoice              0\n",
      "month                0\n",
      "price                0\n",
      "stream_id            0\n",
      "times_viewed         0\n",
      "year                 0\n",
      "dtype: int64\n"
     ]
    }
   ],
   "source": [
    "print(\"\\nCleaning Summary\\n{}\".format(\"-\"*35))\n",
    "print(\"Total records:\", df_clean.shape[0])\n",
    "duplicate_rows = df_clean.duplicated()\n",
    "if True in duplicate_rows:\n",
    "    df_clean = df_clean[~duplicate_rows]\n",
    "print(\"Removed {} duplicate rows\".format(np.where(duplicate_rows==True)[0].size))\n",
    "\n",
    "print(\"\\nMissing Value Summary\\n{}\".format(\"-\"*35))\n",
    "print(\"\\ndf_total\\n{}\".format(\"-\"*15))\n",
    "print(df_clean.isnull().sum(axis = 0))"
   ]
  },
  {
   "cell_type": "markdown",
   "metadata": {},
   "source": [
    "#### Top 10 countries in terms of revenue"
   ]
  },
  {
   "cell_type": "code",
   "execution_count": 13,
   "metadata": {},
   "outputs": [
    {
     "data": {
      "text/plain": [
       "country\n",
       "United Kingdom    2.900369e+06\n",
       "EIRE              7.789082e+04\n",
       "Germany           4.314842e+04\n",
       "France            3.622131e+04\n",
       "Norway            1.761478e+04\n",
       "Spain             1.136122e+04\n",
       "Netherlands       1.054226e+04\n",
       "Belgium           9.483260e+03\n",
       "Portugal          9.406770e+03\n",
       "Switzerland       9.002320e+03\n",
       "Name: price, dtype: float64"
      ]
     },
     "execution_count": 13,
     "metadata": {},
     "output_type": "execute_result"
    }
   ],
   "source": [
    "# List of countries in terms of revenue\n",
    "grouped = df_clean.groupby(['country'])['price'].sum()\n",
    "# Top 10 countries from sorted list of countries in decreasing order\n",
    "top_10 = grouped.sort_values(ascending=False)[0:10]\n",
    "top_10"
   ]
  },
  {
   "cell_type": "markdown",
   "metadata": {},
   "source": [
    "##### Selecting only top 10 countries for further analysis"
   ]
  },
  {
   "cell_type": "code",
   "execution_count": 14,
   "metadata": {},
   "outputs": [
    {
     "data": {
      "text/plain": [
       "(754349, 9)"
      ]
     },
     "execution_count": 14,
     "metadata": {},
     "output_type": "execute_result"
    }
   ],
   "source": [
    "list_top_10 = ['United Kingdom', 'EIRE', 'Germany', 'France',\n",
    "               'Norway', 'Spain', 'Hong Kong', 'Portugal',\n",
    "               'Singapore', 'Netherlands']\n",
    "df_top_10 = df_clean[df_clean['country'].isin(list_top_10)]\n",
    "df_top_10.shape"
   ]
  },
  {
   "cell_type": "code",
   "execution_count": 15,
   "metadata": {},
   "outputs": [
    {
     "data": {
      "text/html": [
       "<div>\n",
       "<style scoped>\n",
       "    .dataframe tbody tr th:only-of-type {\n",
       "        vertical-align: middle;\n",
       "    }\n",
       "\n",
       "    .dataframe tbody tr th {\n",
       "        vertical-align: top;\n",
       "    }\n",
       "\n",
       "    .dataframe thead th {\n",
       "        text-align: right;\n",
       "    }\n",
       "</style>\n",
       "<table border=\"1\" class=\"dataframe\">\n",
       "  <thead>\n",
       "    <tr style=\"text-align: right;\">\n",
       "      <th></th>\n",
       "      <th>country</th>\n",
       "      <th>customer_id</th>\n",
       "      <th>day</th>\n",
       "      <th>invoice</th>\n",
       "      <th>month</th>\n",
       "      <th>price</th>\n",
       "      <th>stream_id</th>\n",
       "      <th>times_viewed</th>\n",
       "      <th>year</th>\n",
       "    </tr>\n",
       "  </thead>\n",
       "  <tbody>\n",
       "    <tr>\n",
       "      <th>0</th>\n",
       "      <td>United Kingdom</td>\n",
       "      <td>13085.0</td>\n",
       "      <td>28</td>\n",
       "      <td>489434</td>\n",
       "      <td>11</td>\n",
       "      <td>6.95</td>\n",
       "      <td>85048</td>\n",
       "      <td>12</td>\n",
       "      <td>2017</td>\n",
       "    </tr>\n",
       "    <tr>\n",
       "      <th>1</th>\n",
       "      <td>United Kingdom</td>\n",
       "      <td>NaN</td>\n",
       "      <td>28</td>\n",
       "      <td>489597</td>\n",
       "      <td>11</td>\n",
       "      <td>8.65</td>\n",
       "      <td>22130</td>\n",
       "      <td>1</td>\n",
       "      <td>2017</td>\n",
       "    </tr>\n",
       "    <tr>\n",
       "      <th>2</th>\n",
       "      <td>United Kingdom</td>\n",
       "      <td>NaN</td>\n",
       "      <td>28</td>\n",
       "      <td>489597</td>\n",
       "      <td>11</td>\n",
       "      <td>1.70</td>\n",
       "      <td>22132</td>\n",
       "      <td>6</td>\n",
       "      <td>2017</td>\n",
       "    </tr>\n",
       "    <tr>\n",
       "      <th>3</th>\n",
       "      <td>United Kingdom</td>\n",
       "      <td>NaN</td>\n",
       "      <td>28</td>\n",
       "      <td>489597</td>\n",
       "      <td>11</td>\n",
       "      <td>1.70</td>\n",
       "      <td>22133</td>\n",
       "      <td>4</td>\n",
       "      <td>2017</td>\n",
       "    </tr>\n",
       "    <tr>\n",
       "      <th>4</th>\n",
       "      <td>United Kingdom</td>\n",
       "      <td>NaN</td>\n",
       "      <td>28</td>\n",
       "      <td>489597</td>\n",
       "      <td>11</td>\n",
       "      <td>0.87</td>\n",
       "      <td>22134</td>\n",
       "      <td>1</td>\n",
       "      <td>2017</td>\n",
       "    </tr>\n",
       "  </tbody>\n",
       "</table>\n",
       "</div>"
      ],
      "text/plain": [
       "          country  customer_id  day invoice  month  price stream_id  \\\n",
       "0  United Kingdom      13085.0   28  489434     11   6.95     85048   \n",
       "1  United Kingdom          NaN   28  489597     11   8.65     22130   \n",
       "2  United Kingdom          NaN   28  489597     11   1.70     22132   \n",
       "3  United Kingdom          NaN   28  489597     11   1.70     22133   \n",
       "4  United Kingdom          NaN   28  489597     11   0.87     22134   \n",
       "\n",
       "   times_viewed  year  \n",
       "0            12  2017  \n",
       "1             1  2017  \n",
       "2             6  2017  \n",
       "3             4  2017  \n",
       "4             1  2017  "
      ]
     },
     "execution_count": 15,
     "metadata": {},
     "output_type": "execute_result"
    }
   ],
   "source": [
    "df_top_10.head()"
   ]
  },
  {
   "cell_type": "code",
   "execution_count": 16,
   "metadata": {},
   "outputs": [
    {
     "data": {
      "image/png": "[encoded data removed]",
      "text/plain": [
       "<Figure size 1008x432 with 1 Axes>"
      ]
     },
     "metadata": {
      "needs_background": "light"
     },
     "output_type": "display_data"
    }
   ],
   "source": [
    "fig = plt.figure(figsize=(14,6))\n",
    "ax2 = fig.add_subplot(121)\n",
    "\n",
    "table2 = pd.pivot_table(df_top_10, index = ['country'], values = 'price')\n",
    "table2.plot(kind='barh',ax=ax2)\n",
    "ax2.set_xlabel(\"Price\");"
   ]
  },
  {
   "cell_type": "markdown",
   "metadata": {},
   "source": [
    "The above plot represents price on X-axis for each of the top 10 revenue earning countries"
   ]
  },
  {
   "cell_type": "code",
   "execution_count": 17,
   "metadata": {},
   "outputs": [
    {
     "data": {
      "image/png": "[encoded data removed]",
      "text/plain": [
       "<Figure size 1008x432 with 1 Axes>"
      ]
     },
     "metadata": {
      "needs_background": "light"
     },
     "output_type": "display_data"
    }
   ],
   "source": [
    "fig = plt.figure(figsize=(14,6))\n",
    "ax2 = fig.add_subplot(121)\n",
    "\n",
    "table2 = pd.pivot_table(df_top_10, index = ['country'], values = 'times_viewed')\n",
    "table2.plot(kind='barh',ax=ax2)\n",
    "ax2.set_xlabel(\"Number of times viewed\");"
   ]
  },
  {
   "cell_type": "markdown",
   "metadata": {},
   "source": [
    "The above plot represents number of times video viewed on X-axis for each of the top 10 revenue earning countries"
   ]
  },
  {
   "cell_type": "markdown",
   "metadata": {},
   "source": [
    "##### Box plots"
   ]
  },
  {
   "cell_type": "code",
   "execution_count": 18,
   "metadata": {},
   "outputs": [
    {
     "data": {
      "text/plain": [
       "(0, 9.3)"
      ]
     },
     "execution_count": 18,
     "metadata": {},
     "output_type": "execute_result"
    },
    {
     "data": {
      "image/png": "[encoded data removed]",
      "text/plain": [
       "<Figure size 1008x432 with 1 Axes>"
      ]
     },
     "metadata": {
      "needs_background": "light"
     },
     "output_type": "display_data"
    }
   ],
   "source": [
    "fig = plt.figure(figsize=(14,6))\n",
    "ax1 = fig.add_subplot(121)\n",
    "\n",
    "table1 = pd.pivot_table(df_top_10,index='country',columns='year',values=\"price\")\n",
    "table1.plot(kind='bar',ax=ax1)\n",
    "ax1.set_ylabel(\"Price\");\n",
    "\n",
    "## adjust the axis to accomadate the legend\n",
    "ax1.set_ylim((0,9.3))"
   ]
  },
  {
   "cell_type": "code",
   "execution_count": 19,
   "metadata": {},
   "outputs": [
    {
     "data": {
      "text/plain": [
       "(0, 9.3)"
      ]
     },
     "execution_count": 19,
     "metadata": {},
     "output_type": "execute_result"
    },
    {
     "data": {
      "image/png": "[encoded data removed]",
      "text/plain": [
       "<Figure size 1296x432 with 1 Axes>"
      ]
     },
     "metadata": {
      "needs_background": "light"
     },
     "output_type": "display_data"
    }
   ],
   "source": [
    "fig = plt.figure(figsize=(18,6))\n",
    "ax2 = fig.add_subplot(121)\n",
    "\n",
    "table2 = pd.pivot_table(df_top_10,index='country',columns='year',values=\"times_viewed\")\n",
    "table2.plot(kind='bar',ax=ax2)\n",
    "ax2.set_ylabel(\"Number of Views\");\n",
    "\n",
    "## adjust the axis to accomadate the legend\n",
    "ax2.set_ylim((0,9.3))"
   ]
  },
  {
   "cell_type": "code",
   "execution_count": 20,
   "metadata": {},
   "outputs": [
    {
     "name": "stderr",
     "output_type": "stream",
     "text": [
      "/usr/local/lib/python3.7/site-packages/seaborn/categorical.py:3666: UserWarning: The `factorplot` function has been renamed to `catplot`. The original name will be removed in a future release. Please update your code. Note that the default `kind` in `factorplot` (`'point'`) has changed `'strip'` in `catplot`.\n",
      "  warnings.warn(msg)\n",
      "/usr/local/lib/python3.7/site-packages/seaborn/categorical.py:3672: UserWarning: The `size` paramter has been renamed to `height`; please update your code.\n",
      "  warnings.warn(msg, UserWarning)\n"
     ]
    },
    {
     "data": {
      "image/png": "[encoded data removed]",
      "text/plain": [
       "<Figure size 634.375x288 with 1 Axes>"
      ]
     },
     "metadata": {
      "needs_background": "light"
     },
     "output_type": "display_data"
    }
   ],
   "source": [
    "# Create a new temporary dataframe to help us plot these variables.\n",
    "df2 = pd.melt(df_top_10, id_vars=['price'], value_vars=[\"year\"], var_name='year' )\n",
    "\n",
    "# Create a factorplot\n",
    "g = sns.factorplot( x=\"year\", y=\"price\", hue='value', data=df2, size=4, aspect=2, kind=\"bar\", palette=\"husl\", ci=None )\n",
    "g.despine(left=True)\n",
    "g.set_ylabels(\"Price\")\n",
    "plt.show()"
   ]
  },
  {
   "cell_type": "markdown",
   "metadata": {},
   "source": [
    "#### 5) Articulate your findings using a deliverable with visualizations."
   ]
  },
  {
   "cell_type": "markdown",
   "metadata": {},
   "source": [
    "For a supervised learning pipeline, the target variable would be 'price'.\n",
    "Important feature determining price appears to be 'times_viewed' which represents the number of times video streams were viewed. A country wise analysis would make the feature 'country' important since grouping by would be done on that column. \n",
    "\n",
    "\n",
    "'year' and 'month' would be a feature for carrying out time-series forecasting of the revenue. "
   ]
  },
  {
   "cell_type": "code",
   "execution_count": 21,
   "metadata": {},
   "outputs": [
    {
     "data": {
      "text/html": [
       "<div>\n",
       "<style scoped>\n",
       "    .dataframe tbody tr th:only-of-type {\n",
       "        vertical-align: middle;\n",
       "    }\n",
       "\n",
       "    .dataframe tbody tr th {\n",
       "        vertical-align: top;\n",
       "    }\n",
       "\n",
       "    .dataframe thead th {\n",
       "        text-align: right;\n",
       "    }\n",
       "</style>\n",
       "<table border=\"1\" class=\"dataframe\">\n",
       "  <thead>\n",
       "    <tr style=\"text-align: right;\">\n",
       "      <th></th>\n",
       "      <th>invoice</th>\n",
       "      <th>times_viewed</th>\n",
       "      <th>price</th>\n",
       "      <th>country</th>\n",
       "      <th>day</th>\n",
       "      <th>month</th>\n",
       "      <th>year</th>\n",
       "    </tr>\n",
       "  </thead>\n",
       "  <tbody>\n",
       "    <tr>\n",
       "      <th>0</th>\n",
       "      <td>489434</td>\n",
       "      <td>103</td>\n",
       "      <td>32.65</td>\n",
       "      <td>United Kingdom</td>\n",
       "      <td>28</td>\n",
       "      <td>11</td>\n",
       "      <td>2017</td>\n",
       "    </tr>\n",
       "    <tr>\n",
       "      <th>1</th>\n",
       "      <td>489435</td>\n",
       "      <td>54</td>\n",
       "      <td>10.50</td>\n",
       "      <td>United Kingdom</td>\n",
       "      <td>28</td>\n",
       "      <td>11</td>\n",
       "      <td>2017</td>\n",
       "    </tr>\n",
       "    <tr>\n",
       "      <th>2</th>\n",
       "      <td>489436</td>\n",
       "      <td>165</td>\n",
       "      <td>70.88</td>\n",
       "      <td>United Kingdom</td>\n",
       "      <td>28</td>\n",
       "      <td>11</td>\n",
       "      <td>2017</td>\n",
       "    </tr>\n",
       "    <tr>\n",
       "      <th>3</th>\n",
       "      <td>489437</td>\n",
       "      <td>145</td>\n",
       "      <td>83.45</td>\n",
       "      <td>United Kingdom</td>\n",
       "      <td>28</td>\n",
       "      <td>11</td>\n",
       "      <td>2017</td>\n",
       "    </tr>\n",
       "    <tr>\n",
       "      <th>4</th>\n",
       "      <td>489438</td>\n",
       "      <td>214</td>\n",
       "      <td>44.05</td>\n",
       "      <td>United Kingdom</td>\n",
       "      <td>28</td>\n",
       "      <td>11</td>\n",
       "      <td>2017</td>\n",
       "    </tr>\n",
       "  </tbody>\n",
       "</table>\n",
       "</div>"
      ],
      "text/plain": [
       "  invoice  times_viewed  price         country  day  month  year\n",
       "0  489434           103  32.65  United Kingdom   28     11  2017\n",
       "1  489435            54  10.50  United Kingdom   28     11  2017\n",
       "2  489436           165  70.88  United Kingdom   28     11  2017\n",
       "3  489437           145  83.45  United Kingdom   28     11  2017\n",
       "4  489438           214  44.05  United Kingdom   28     11  2017"
      ]
     },
     "execution_count": 21,
     "metadata": {},
     "output_type": "execute_result"
    }
   ],
   "source": [
    "df_agg.head()"
   ]
  },
  {
   "cell_type": "markdown",
   "metadata": {},
   "source": [
    "#####  Time Series forecasting data preparation:\n",
    "\n",
    "In order to carry out a time series analysis, record of each day should be considered and the dataframe should be in a chronological order so that forecasting models can fit and provide revenue i.e price for the following month. Let's start by aggregating the transactions by day"
   ]
  },
  {
   "cell_type": "code",
   "execution_count": 22,
   "metadata": {},
   "outputs": [
    {
     "data": {
      "text/html": [
       "<div>\n",
       "<style scoped>\n",
       "    .dataframe tbody tr th:only-of-type {\n",
       "        vertical-align: middle;\n",
       "    }\n",
       "\n",
       "    .dataframe tbody tr th {\n",
       "        vertical-align: top;\n",
       "    }\n",
       "\n",
       "    .dataframe thead th {\n",
       "        text-align: right;\n",
       "    }\n",
       "</style>\n",
       "<table border=\"1\" class=\"dataframe\">\n",
       "  <thead>\n",
       "    <tr style=\"text-align: right;\">\n",
       "      <th></th>\n",
       "      <th>year</th>\n",
       "      <th>month</th>\n",
       "      <th>day</th>\n",
       "      <th>times_viewed</th>\n",
       "      <th>price</th>\n",
       "      <th>country</th>\n",
       "    </tr>\n",
       "  </thead>\n",
       "  <tbody>\n",
       "    <tr>\n",
       "      <th>0</th>\n",
       "      <td>2017</td>\n",
       "      <td>11</td>\n",
       "      <td>28</td>\n",
       "      <td>14673</td>\n",
       "      <td>13608.29</td>\n",
       "      <td>United Kingdom</td>\n",
       "    </tr>\n",
       "    <tr>\n",
       "      <th>1</th>\n",
       "      <td>2017</td>\n",
       "      <td>11</td>\n",
       "      <td>29</td>\n",
       "      <td>14044</td>\n",
       "      <td>13088.49</td>\n",
       "      <td>United Kingdom</td>\n",
       "    </tr>\n",
       "    <tr>\n",
       "      <th>2</th>\n",
       "      <td>2017</td>\n",
       "      <td>11</td>\n",
       "      <td>30</td>\n",
       "      <td>15445</td>\n",
       "      <td>11050.81</td>\n",
       "      <td>United Kingdom</td>\n",
       "    </tr>\n",
       "    <tr>\n",
       "      <th>3</th>\n",
       "      <td>2017</td>\n",
       "      <td>12</td>\n",
       "      <td>1</td>\n",
       "      <td>12012</td>\n",
       "      <td>9270.88</td>\n",
       "      <td>United Kingdom</td>\n",
       "    </tr>\n",
       "    <tr>\n",
       "      <th>4</th>\n",
       "      <td>2017</td>\n",
       "      <td>12</td>\n",
       "      <td>2</td>\n",
       "      <td>3101</td>\n",
       "      <td>1263.28</td>\n",
       "      <td>United Kingdom</td>\n",
       "    </tr>\n",
       "  </tbody>\n",
       "</table>\n",
       "</div>"
      ],
      "text/plain": [
       "   year  month  day  times_viewed     price         country\n",
       "0  2017     11   28         14673  13608.29  United Kingdom\n",
       "1  2017     11   29         14044  13088.49  United Kingdom\n",
       "2  2017     11   30         15445  11050.81  United Kingdom\n",
       "3  2017     12    1         12012   9270.88  United Kingdom\n",
       "4  2017     12    2          3101   1263.28  United Kingdom"
      ]
     },
     "execution_count": 22,
     "metadata": {},
     "output_type": "execute_result"
    }
   ],
   "source": [
    "df_day = df_top_10.groupby(['year', 'month', 'day']).agg({'times_viewed':'sum', 'price':'sum',\n",
    "                                        'country':'first',}).reset_index()\n",
    "df_day.head()"
   ]
  },
  {
   "cell_type": "markdown",
   "metadata": {},
   "source": [
    "Now the data has been arranged in the chronological order, so it can be used in time-series forecasting model in order to project revenue for the following month. Given dataframe in this form, forecasted results would produce the price or \"revenue\" for each day based on the features provided to the model. In order to gain monthly revenue, we need to aggregate the data by month rather than day."
   ]
  },
  {
   "cell_type": "code",
   "execution_count": 23,
   "metadata": {},
   "outputs": [
    {
     "name": "stdout",
     "output_type": "stream",
     "text": [
      "Total number of days in considerdation for analysis: 495\n"
     ]
    }
   ],
   "source": [
    "print(\"Total number of days in considerdation for analysis:\", df_day.shape[0])"
   ]
  },
  {
   "cell_type": "code",
   "execution_count": 24,
   "metadata": {},
   "outputs": [
    {
     "data": {
      "text/html": [
       "<div>\n",
       "<style scoped>\n",
       "    .dataframe tbody tr th:only-of-type {\n",
       "        vertical-align: middle;\n",
       "    }\n",
       "\n",
       "    .dataframe tbody tr th {\n",
       "        vertical-align: top;\n",
       "    }\n",
       "\n",
       "    .dataframe thead th {\n",
       "        text-align: right;\n",
       "    }\n",
       "</style>\n",
       "<table border=\"1\" class=\"dataframe\">\n",
       "  <thead>\n",
       "    <tr style=\"text-align: right;\">\n",
       "      <th></th>\n",
       "      <th>year</th>\n",
       "      <th>month</th>\n",
       "      <th>times_viewed</th>\n",
       "      <th>price</th>\n",
       "      <th>country</th>\n",
       "    </tr>\n",
       "  </thead>\n",
       "  <tbody>\n",
       "    <tr>\n",
       "      <th>0</th>\n",
       "      <td>2017</td>\n",
       "      <td>11</td>\n",
       "      <td>44162</td>\n",
       "      <td>37747.590</td>\n",
       "      <td>United Kingdom</td>\n",
       "    </tr>\n",
       "    <tr>\n",
       "      <th>1</th>\n",
       "      <td>2017</td>\n",
       "      <td>12</td>\n",
       "      <td>159574</td>\n",
       "      <td>146710.260</td>\n",
       "      <td>United Kingdom</td>\n",
       "    </tr>\n",
       "    <tr>\n",
       "      <th>2</th>\n",
       "      <td>2018</td>\n",
       "      <td>1</td>\n",
       "      <td>169153</td>\n",
       "      <td>153775.324</td>\n",
       "      <td>United Kingdom</td>\n",
       "    </tr>\n",
       "    <tr>\n",
       "      <th>3</th>\n",
       "      <td>2018</td>\n",
       "      <td>2</td>\n",
       "      <td>150951</td>\n",
       "      <td>103125.744</td>\n",
       "      <td>United Kingdom</td>\n",
       "    </tr>\n",
       "    <tr>\n",
       "      <th>4</th>\n",
       "      <td>2018</td>\n",
       "      <td>3</td>\n",
       "      <td>194356</td>\n",
       "      <td>192786.491</td>\n",
       "      <td>United Kingdom</td>\n",
       "    </tr>\n",
       "  </tbody>\n",
       "</table>\n",
       "</div>"
      ],
      "text/plain": [
       "   year  month  times_viewed       price         country\n",
       "0  2017     11         44162   37747.590  United Kingdom\n",
       "1  2017     12        159574  146710.260  United Kingdom\n",
       "2  2018      1        169153  153775.324  United Kingdom\n",
       "3  2018      2        150951  103125.744  United Kingdom\n",
       "4  2018      3        194356  192786.491  United Kingdom"
      ]
     },
     "execution_count": 24,
     "metadata": {},
     "output_type": "execute_result"
    }
   ],
   "source": [
    "df_month = df_top_10.groupby(['year', 'month']).agg({'times_viewed':'sum', 'price':'sum',\n",
    "                                        'country':'first',}).reset_index()\n",
    "df_month.head()"
   ]
  },
  {
   "cell_type": "markdown",
   "metadata": {},
   "source": [
    "The deliverables here are the dataframes 'df_month' and 'df_day' that can be used for forecasting monthly and daily revenue respectively"
   ]
  },
  {
   "cell_type": "markdown",
   "metadata": {},
   "source": [
    "##### Stationarity check of a time-series"
   ]
  },
  {
   "cell_type": "code",
   "execution_count": 25,
   "metadata": {},
   "outputs": [
    {
     "data": {
      "text/plain": [
       "<matplotlib.axes._subplots.AxesSubplot at 0x11588da50>"
      ]
     },
     "execution_count": 25,
     "metadata": {},
     "output_type": "execute_result"
    },
    {
     "data": {
      "image/png": "[encoded data removed]",
      "text/plain": [
       "<Figure size 1440x432 with 1 Axes>"
      ]
     },
     "metadata": {
      "needs_background": "light"
     },
     "output_type": "display_data"
    }
   ],
   "source": [
    "# checking stationarity of a time-series on a daily basis\n",
    "ts_day = df_day['price']\n",
    "ts_day.plot(figsize=(20, 6))"
   ]
  },
  {
   "cell_type": "code",
   "execution_count": 26,
   "metadata": {},
   "outputs": [
    {
     "data": {
      "text/plain": [
       "[<matplotlib.lines.Line2D at 0x11588d210>]"
      ]
     },
     "execution_count": 26,
     "metadata": {},
     "output_type": "execute_result"
    },
    {
     "data": {
      "image/png": "[encoded data removed]",
      "text/plain": [
       "<Figure size 432x288 with 1 Axes>"
      ]
     },
     "metadata": {
      "needs_background": "light"
     },
     "output_type": "display_data"
    }
   ],
   "source": [
    "# checking stationarity of a time-series on a monthly basis\n",
    "ts_month = df_month['price']\n",
    "plt.plot(ts_month)"
   ]
  },
  {
   "cell_type": "code",
   "execution_count": 27,
   "metadata": {},
   "outputs": [],
   "source": [
    "from statsmodels.tsa.stattools import adfuller\n",
    "def test_stationarity(timeseries):\n",
    "    \n",
    "    #Determing rolling statistics\n",
    "    rolmean = timeseries.rolling(30).mean()\n",
    "    rolstd = timeseries.rolling(30).std()\n",
    "\n",
    "    #Plot rolling statistics:\n",
    "    orig = plt.plot(timeseries, color='blue',label='Original')\n",
    "    mean = plt.plot(rolmean, color='red', label='Rolling Mean')\n",
    "    std = plt.plot(rolstd, color='black', label = 'Rolling Std')\n",
    "    plt.legend(loc='best')\n",
    "    plt.title('Rolling Mean & Standard Deviation')\n",
    "    plt.show(block=False)\n",
    "    \n",
    "    #Perform Dickey-Fuller test:\n",
    "    print('Results of Dickey-Fuller Test:')\n",
    "    dftest = adfuller(timeseries, autolag='AIC')\n",
    "    dfoutput = pd.Series(dftest[0:4], index=['Test Statistic','p-value','#Lags Used','Number of Observations Used'])\n",
    "    for key,value in dftest[4].items():\n",
    "        dfoutput['Critical Value (%s)'%key] = value\n",
    "    print(dfoutput)"
   ]
  },
  {
   "cell_type": "code",
   "execution_count": 28,
   "metadata": {},
   "outputs": [
    {
     "data": {
      "image/png": "[encoded data removed]",
      "text/plain": [
       "<Figure size 432x288 with 1 Axes>"
      ]
     },
     "metadata": {
      "needs_background": "light"
     },
     "output_type": "display_data"
    },
    {
     "name": "stdout",
     "output_type": "stream",
     "text": [
      "Results of Dickey-Fuller Test:\n",
      "Test Statistic                  -4.249582\n",
      "p-value                          0.000543\n",
      "#Lags Used                       8.000000\n",
      "Number of Observations Used    486.000000\n",
      "Critical Value (1%)             -3.443877\n",
      "Critical Value (5%)             -2.867505\n",
      "Critical Value (10%)            -2.569947\n",
      "dtype: float64\n"
     ]
    }
   ],
   "source": [
    "test_stationarity(ts_day)\n"
   ]
  },
  {
   "cell_type": "markdown",
   "metadata": {},
   "source": [
    "For carrying out time-series forecasting, the Test statistic value is even smaller than 1% of the critical value. Therefore, it can be concluded that the time-series is stationary.\n"
   ]
  },
  {
   "cell_type": "markdown",
   "metadata": {},
   "source": [
    "##### Forecasting a time-series"
   ]
  },
  {
   "cell_type": "code",
   "execution_count": 29,
   "metadata": {},
   "outputs": [
    {
     "name": "stderr",
     "output_type": "stream",
     "text": [
      "/usr/local/lib/python3.7/site-packages/statsmodels/tsa/stattools.py:541: FutureWarning: fft=True will become the default in a future version of statsmodels. To suppress this warning, explicitly set fft=False.\n",
      "  warnings.warn(msg, FutureWarning)\n"
     ]
    }
   ],
   "source": [
    "#ACF and PACF plots:\n",
    "from statsmodels.tsa.stattools import acf, pacf\n",
    "lag_acf = acf(ts_day, nlags=20)\n",
    "lag_pacf = pacf(ts_day, nlags=20, method='ols')"
   ]
  },
  {
   "cell_type": "code",
   "execution_count": 30,
   "metadata": {},
   "outputs": [],
   "source": [
    "def log_shift(data, shift):\n",
    "    ts_log = np.log(data)\n",
    "    ts_log_diff = ts_log - ts_log.shift(shift)\n",
    "    ts_log_diff = ts_log_diff.dropna()\n",
    "    ts_log_diff = pd.Series(ts_log_diff.values ,index= ts_log_diff.index)\n",
    "    return ts_log, ts_log_diff\n",
    "## Applying ACF and PACF \n",
    "ts_log, ts_log_diff = log_shift(ts_day, 1)\n",
    "lag_acf = acf(ts_log_diff, nlags=20)\n",
    "lag_pacf = pacf(ts_log_diff, nlags=20, method='ols')"
   ]
  },
  {
   "cell_type": "code",
   "execution_count": 31,
   "metadata": {},
   "outputs": [
    {
     "data": {
      "image/png": "[encoded data removed]",
      "text/plain": [
       "<Figure size 432x288 with 2 Axes>"
      ]
     },
     "metadata": {
      "needs_background": "light"
     },
     "output_type": "display_data"
    }
   ],
   "source": [
    "#Plot ACF: \n",
    "plt.subplot(121) \n",
    "plt.plot(lag_acf)\n",
    "plt.axhline(y=0,linestyle='--',color='gray')\n",
    "plt.axhline(y=-1.96/np.sqrt(len(ts_log_diff)),linestyle='--',color='gray')\n",
    "plt.axhline(y=1.96/np.sqrt(len(ts_log_diff)),linestyle='--',color='gray')\n",
    "plt.title('Autocorrelation Function')\n",
    "\n",
    "#Plot PACF:\n",
    "plt.subplot(122)\n",
    "plt.plot(lag_pacf)\n",
    "plt.axhline(y=0,linestyle='--',color='gray')\n",
    "plt.axhline(y=-1.96/np.sqrt(len(ts_log_diff)),linestyle='--',color='gray')\n",
    "plt.axhline(y=1.96/np.sqrt(len(ts_log_diff)),linestyle='--',color='gray')\n",
    "plt.title('Partial Autocorrelation Function')\n",
    "plt.tight_layout()"
   ]
  },
  {
   "cell_type": "markdown",
   "metadata": {},
   "source": [
    "In this plot, the two dotted lines on either sides of 0 are the confidence interevals. These can be used to determine the ‘p’ and ‘q’ values as:\n",
    "\n",
    "p – The lag value where the PACF chart crosses the upper confidence interval for the first time which appears to be p=8.\n",
    "\n",
    "q – The lag value where the ACF chart crosses the upper confidence interval for the first time which is q=8."
   ]
  },
  {
   "cell_type": "code",
   "execution_count": 32,
   "metadata": {},
   "outputs": [
    {
     "data": {
      "text/plain": [
       "Text(0.5, 1.0, 'RSS: 134.2344')"
      ]
     },
     "execution_count": 32,
     "metadata": {},
     "output_type": "execute_result"
    },
    {
     "data": {
      "image/png": "[encoded data removed]",
      "text/plain": [
       "<Figure size 432x288 with 1 Axes>"
      ]
     },
     "metadata": {
      "needs_background": "light"
     },
     "output_type": "display_data"
    }
   ],
   "source": [
    "from statsmodels.tsa.arima_model import ARIMA\n",
    "\n",
    "# AR MODEL\n",
    "model = ARIMA(ts_log, order=(1, 1, 1))  \n",
    "results_ARIMA = model.fit(disp=-1)  \n",
    "plt.plot(ts_log_diff)\n",
    "plt.plot(results_ARIMA.fittedvalues, color='red')\n",
    "plt.title('RSS: %.4f'% sum((results_ARIMA.fittedvalues-ts_log_diff)**2))"
   ]
  }
 ],
 "metadata": {
  "kernelspec": {
   "display_name": "Python 3",
   "language": "python",
   "name": "python3"
  },
  "language_info": {
   "codemirror_mode": {
    "name": "ipython",
    "version": 3
   },
   "file_extension": ".py",
   "mimetype": "text/x-python",
   "name": "python",
   "nbconvert_exporter": "python",
   "pygments_lexer": "ipython3",
   "version": "3.7.5"
  }
 },
 "nbformat": 4,
 "nbformat_minor": 2
}
